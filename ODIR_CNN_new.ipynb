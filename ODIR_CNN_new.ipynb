{
 "cells": [
  {
   "cell_type": "code",
   "execution_count": 1,
   "metadata": {
    "colab": {},
    "colab_type": "code",
    "executionInfo": {
     "elapsed": 9896,
     "status": "ok",
     "timestamp": 1597308887337,
     "user": {
      "displayName": "muhammad faraz",
      "photoUrl": "https://lh3.googleusercontent.com/a-/AOh14GhCIIOnKDHT--ClL_xptY8Crwwxasj8diH9_lVcNQ=s64",
      "userId": "05911357442094582810"
     },
     "user_tz": -300
    },
    "id": "GaCSj-is4R44"
   },
   "outputs": [],
   "source": [
    "# importing librairies\n",
    "\n",
    "import tensorflow as tf\n",
    "from tensorflow import keras\n",
    "# Helper libraries\n",
    "import numpy as np\n",
    "import pandas as pd\n",
    "import matplotlib.pyplot as plt\n",
    "\n",
    "\n",
    "from tensorflow.keras.preprocessing.image import ImageDataGenerator\n",
    "from tensorflow.keras.models import Sequential\n",
    "from tensorflow.keras.layers import Dense, Dropout, Activation, Flatten\n",
    "from tensorflow.keras.layers import Conv2D, MaxPooling2D\n",
    "\n",
    "import os\n",
    "import cv2\n",
    "\n",
    "from sklearn.utils import shuffle\n",
    "from sklearn.metrics import confusion_matrix\n",
    "from sklearn.model_selection import train_test_split\n",
    "import itertools\n",
    "import shutil\n",
    "import matplotlib.pyplot as plt\n",
    "%matplotlib inline\n",
    "\n",
    "import itertools\n",
    "from sklearn import metrics\n",
    "from sklearn.metrics import confusion_matrix\n",
    "from tensorflow.keras.preprocessing.image import ImageDataGenerator, img_to_array, load_img \n",
    "# from keras.models import Sequential \n",
    "from tensorflow.keras import optimizers\n",
    "from tensorflow.keras.preprocessing import image\n",
    "# from keras.layers import Dropout, Flatten, Dense  \n",
    "from tensorflow.keras import applications\n",
    "# from tensorflow.keras.utils.np_utils import to_categorical  \n",
    "# import matplotlib.pyplot as plt \n",
    "import matplotlib.image as mpimg\n",
    "# %matplotlib inline\n",
    "import math  \n",
    "import datetime\n",
    "import time"
   ]
  },
  {
   "cell_type": "code",
   "execution_count": 2,
   "metadata": {},
   "outputs": [
    {
     "data": {
      "text/plain": [
       "['.ipynb_checkpoints',\n",
       " 'bottleneck_fc_model.h5',\n",
       " 'bottleneck_features_train.npy',\n",
       " 'CNN.ipynb',\n",
       " 'dataset',\n",
       " 'FYP_ODIR_CNN.ipynb',\n",
       " 'Glycauma.zip',\n",
       " 'Normal.zip',\n",
       " 'ODIR-5K_Training_Annotations(Updated)_V2.xlsx',\n",
       " 'ODIR.ipynb',\n",
       " 'ODIR1.ipynb',\n",
       " 'ODIR_CNN_new.ipynb',\n",
       " 'output',\n",
       " 'testing_image',\n",
       " 'training_image',\n",
       " 'training_image.zip',\n",
       " 'train_csv.csv',\n",
       " 'train_x.pickle',\n",
       " 'train_y.pickle',\n",
       " 'Untitled1.ipynb',\n",
       " 'x.pickle',\n",
       " 'y.pickle']"
      ]
     },
     "execution_count": 2,
     "metadata": {},
     "output_type": "execute_result"
    }
   ],
   "source": [
    "os.listdir('../FYP')"
   ]
  },
  {
   "cell_type": "code",
   "execution_count": 3,
   "metadata": {},
   "outputs": [
    {
     "name": "stdout",
     "output_type": "stream",
     "text": [
      "7000\n",
      "1000\n"
     ]
    }
   ],
   "source": [
    "print(len(os.listdir('../FYP/training_image')))\n",
    "print(len(os.listdir('../FYP/testing_image')))\n",
    "original_dataset_train_dir = '../FYP/training_image'\n",
    "original_dataset_test_dir = '../FYP/testing_image'"
   ]
  },
  {
   "cell_type": "code",
   "execution_count": 4,
   "metadata": {},
   "outputs": [
    {
     "name": "stdout",
     "output_type": "stream",
     "text": [
      "(3500, 15)\n"
     ]
    }
   ],
   "source": [
    "df_data = pd.read_csv('../FYP/train_csv.csv')\n",
    "\n",
    "\n",
    "print(df_data.shape)"
   ]
  },
  {
   "cell_type": "code",
   "execution_count": 5,
   "metadata": {},
   "outputs": [
    {
     "data": {
      "text/html": [
       "<div>\n",
       "<style scoped>\n",
       "    .dataframe tbody tr th:only-of-type {\n",
       "        vertical-align: middle;\n",
       "    }\n",
       "\n",
       "    .dataframe tbody tr th {\n",
       "        vertical-align: top;\n",
       "    }\n",
       "\n",
       "    .dataframe thead th {\n",
       "        text-align: right;\n",
       "    }\n",
       "</style>\n",
       "<table border=\"1\" class=\"dataframe\">\n",
       "  <thead>\n",
       "    <tr style=\"text-align: right;\">\n",
       "      <th></th>\n",
       "      <th>ID</th>\n",
       "      <th>Patient Age</th>\n",
       "      <th>Patient Sex</th>\n",
       "      <th>Left-Fundus</th>\n",
       "      <th>Right-Fundus</th>\n",
       "      <th>Left-Diagnostic Keywords</th>\n",
       "      <th>Right-Diagnostic Keywords</th>\n",
       "      <th>N</th>\n",
       "      <th>D</th>\n",
       "      <th>G</th>\n",
       "      <th>C</th>\n",
       "      <th>A</th>\n",
       "      <th>H</th>\n",
       "      <th>M</th>\n",
       "      <th>O</th>\n",
       "    </tr>\n",
       "  </thead>\n",
       "  <tbody>\n",
       "    <tr>\n",
       "      <th>0</th>\n",
       "      <td>0</td>\n",
       "      <td>69</td>\n",
       "      <td>Female</td>\n",
       "      <td>0_left.jpg</td>\n",
       "      <td>0_right.jpg</td>\n",
       "      <td>cataract</td>\n",
       "      <td>normal fundus</td>\n",
       "      <td>0</td>\n",
       "      <td>0</td>\n",
       "      <td>0</td>\n",
       "      <td>1</td>\n",
       "      <td>0</td>\n",
       "      <td>0</td>\n",
       "      <td>0</td>\n",
       "      <td>0</td>\n",
       "    </tr>\n",
       "    <tr>\n",
       "      <th>1</th>\n",
       "      <td>1</td>\n",
       "      <td>57</td>\n",
       "      <td>Male</td>\n",
       "      <td>1_left.jpg</td>\n",
       "      <td>1_right.jpg</td>\n",
       "      <td>normal fundus</td>\n",
       "      <td>normal fundus</td>\n",
       "      <td>1</td>\n",
       "      <td>0</td>\n",
       "      <td>0</td>\n",
       "      <td>0</td>\n",
       "      <td>0</td>\n",
       "      <td>0</td>\n",
       "      <td>0</td>\n",
       "      <td>0</td>\n",
       "    </tr>\n",
       "    <tr>\n",
       "      <th>2</th>\n",
       "      <td>2</td>\n",
       "      <td>42</td>\n",
       "      <td>Male</td>\n",
       "      <td>2_left.jpg</td>\n",
       "      <td>2_right.jpg</td>\n",
       "      <td>laser spot?moderate non proliferative retinopathy</td>\n",
       "      <td>moderate non proliferative retinopathy</td>\n",
       "      <td>0</td>\n",
       "      <td>1</td>\n",
       "      <td>0</td>\n",
       "      <td>0</td>\n",
       "      <td>0</td>\n",
       "      <td>0</td>\n",
       "      <td>0</td>\n",
       "      <td>1</td>\n",
       "    </tr>\n",
       "    <tr>\n",
       "      <th>3</th>\n",
       "      <td>3</td>\n",
       "      <td>66</td>\n",
       "      <td>Male</td>\n",
       "      <td>3_left.jpg</td>\n",
       "      <td>3_right.jpg</td>\n",
       "      <td>normal fundus</td>\n",
       "      <td>branch retinal artery occlusion</td>\n",
       "      <td>0</td>\n",
       "      <td>0</td>\n",
       "      <td>0</td>\n",
       "      <td>0</td>\n",
       "      <td>0</td>\n",
       "      <td>0</td>\n",
       "      <td>0</td>\n",
       "      <td>1</td>\n",
       "    </tr>\n",
       "    <tr>\n",
       "      <th>4</th>\n",
       "      <td>4</td>\n",
       "      <td>53</td>\n",
       "      <td>Male</td>\n",
       "      <td>4_left.jpg</td>\n",
       "      <td>4_right.jpg</td>\n",
       "      <td>macular epiretinal membrane</td>\n",
       "      <td>mild nonproliferative retinopathy</td>\n",
       "      <td>0</td>\n",
       "      <td>1</td>\n",
       "      <td>0</td>\n",
       "      <td>0</td>\n",
       "      <td>0</td>\n",
       "      <td>0</td>\n",
       "      <td>0</td>\n",
       "      <td>1</td>\n",
       "    </tr>\n",
       "  </tbody>\n",
       "</table>\n",
       "</div>"
      ],
      "text/plain": [
       "   ID  Patient Age Patient Sex Left-Fundus Right-Fundus  \\\n",
       "0   0           69      Female  0_left.jpg  0_right.jpg   \n",
       "1   1           57        Male  1_left.jpg  1_right.jpg   \n",
       "2   2           42        Male  2_left.jpg  2_right.jpg   \n",
       "3   3           66        Male  3_left.jpg  3_right.jpg   \n",
       "4   4           53        Male  4_left.jpg  4_right.jpg   \n",
       "\n",
       "                            Left-Diagnostic Keywords  \\\n",
       "0                                           cataract   \n",
       "1                                      normal fundus   \n",
       "2  laser spot?moderate non proliferative retinopathy   \n",
       "3                                      normal fundus   \n",
       "4                        macular epiretinal membrane   \n",
       "\n",
       "                Right-Diagnostic Keywords  N  D  G  C  A  H  M  O  \n",
       "0                           normal fundus  0  0  0  1  0  0  0  0  \n",
       "1                           normal fundus  1  0  0  0  0  0  0  0  \n",
       "2  moderate non proliferative retinopathy  0  1  0  0  0  0  0  1  \n",
       "3         branch retinal artery occlusion  0  0  0  0  0  0  0  1  \n",
       "4       mild nonproliferative retinopathy  0  1  0  0  0  0  0  1  "
      ]
     },
     "execution_count": 5,
     "metadata": {},
     "output_type": "execute_result"
    }
   ],
   "source": [
    "df_data['M'].value_counts()\n",
    "df_data.head(5)"
   ]
  },
  {
   "cell_type": "code",
   "execution_count": 6,
   "metadata": {},
   "outputs": [
    {
     "name": "stdout",
     "output_type": "stream",
     "text": [
      "3500\n",
      "8127\n"
     ]
    }
   ],
   "source": [
    "# Separate the whole images into different categories and save in category of an array\n",
    "\n",
    "# Path of images\n",
    "IMAGE_PATH = '../FYP/train_image/' \n",
    "# categories = [\"N\",\"D\",\"G\",\"C\",\"A\",\"H\",\"M\",\"O\"]\n",
    "\n",
    "# Inialiaze the categories og train\n",
    "NORMAL_train = []\n",
    "DIABETES_train = []\n",
    "GLYCOMA_train = []\n",
    "CATARACT_train = []\n",
    "AMD_train = []\n",
    "HYPERTENSION_train = []\n",
    "MYOPIA_train = []\n",
    "OTHER_train = []\n",
    "\n",
    "\n",
    "# Inialiaze the categories og test\n",
    "NORMAL_test = []\n",
    "DIABETES_test = []\n",
    "GLYCOMA_test = []\n",
    "CATARACT_test = []\n",
    "AMD_test = []\n",
    "HYPERTENSION_test = []\n",
    "MYOPIA_test = []\n",
    "OTHER_test = []\n",
    "\n",
    "# Data load from dataset\n",
    "normal_fundus_from_dataset = df_data[\"N\"]\n",
    "diabetes_fundus_from_dataset = df_data[\"D\"]\n",
    "glycoma_fundus_from_dataset = df_data[\"G\"]\n",
    "cataract_fundus_from_dataset = df_data[\"C\"]\n",
    "amd_fundus_from_dataset = df_data[\"A\"]\n",
    "hypertension_fundus_from_dataset = df_data[\"H\"]\n",
    "myopia_fundus_from_dataset = df_data[\"M\"]\n",
    "other_fundus_from_dataset = df_data[\"O\"]\n",
    "\n",
    "\n",
    "left_image = df_data[\"Left-Fundus\"]\n",
    "right_image = df_data[\"Right-Fundus\"]\n",
    "# print(myopia_fundus)\n",
    "print(len(df_data))\n",
    "for i in range(0,len(df_data)):\n",
    "#     print(myopia_fundus[i])\n",
    "    if normal_fundus_from_dataset[i] == 1:\n",
    "        NORMAL_train.append(left_image[i])\n",
    "        NORMAL_train.append(right_image[i])\n",
    "    if diabetes_fundus_from_dataset[i] == 1:\n",
    "        DIABETES_train.append(left_image[i])\n",
    "        DIABETES_train.append(right_image[i])\n",
    "    \n",
    "    if glycoma_fundus_from_dataset[i] == 1:\n",
    "        GLYCOMA_train.append(left_image[i])\n",
    "        GLYCOMA_train.append(right_image[i])\n",
    "    \n",
    "    if cataract_fundus_from_dataset[i] == 1:\n",
    "        CATARACT_train.append(left_image[i])\n",
    "        CATARACT_train.append(right_image[i])\n",
    "    \n",
    "    if amd_fundus_from_dataset[i] == 1:\n",
    "        AMD_train.append(left_image[i])\n",
    "        AMD_train.append(right_image[i])\n",
    "    \n",
    "    if hypertension_fundus_from_dataset[i] == 1:\n",
    "        HYPERTENSION_train.append(left_image[i])\n",
    "        HYPERTENSION_test.append(right_image[i])\n",
    "    \n",
    "    if myopia_fundus_from_dataset[i] == 1:\n",
    "        MYOPIA_train.append(left_image[i])\n",
    "        MYOPIA_train.append(right_image[i])\n",
    "    \n",
    "    if other_fundus_from_dataset[i] == 1:\n",
    "        OTHER_train.append(left_image[i])\n",
    "        OTHER_train.append(right_image[i])\n",
    "    \n",
    "\n",
    "ee = len(NORMAL_train)+len(MYOPIA_train)+len(CATARACT_train)+len(HYPERTENSION_train)+len(OTHER_train)+len(GLYCOMA_train)+len(AMD_train)+len(DIABETES_train)\n",
    "print(ee)\n",
    "# print(len(CATARACT_train))\n",
    "#     if myopia_fundus[i] == 1:\n",
    "#         myopia.append(left_image[i])\n",
    "#         myopia.append(right_image[i])\n",
    "#     elif cataract_fundus[i] == 1:\n",
    "#         cataract.append(left_image[i])\n",
    "#         cataract.append(right_image[i])\n",
    "#     elif normal_fundus[i] == 1:\n",
    "#         normal.append(left_image[i])\n",
    "#         normal.append(right_image[i])\n",
    "# # dra\n",
    "# for i in len(df_data):\n",
    "#     if myopia_fundus==\"1\":\n",
    "#         print(\"helo\")\n",
    "# comparison_column = np.where(df[\"col1\"] == df[\"col2\"], True, False)\n",
    "\n",
    "# path1 = os.path.join(IMAGE_PATH,left_fundus[0])\n",
    "# for left in left_fundus:\n",
    "#     path = os.path.join(IMAGE_PATH,left)\n",
    "#     print(path)\n",
    "    \n",
    "\n"
   ]
  },
  {
   "cell_type": "markdown",
   "metadata": {},
   "source": [
    "# Create directory and Separte the images "
   ]
  },
  {
   "cell_type": "code",
   "execution_count": null,
   "metadata": {},
   "outputs": [],
   "source": [
    "base_dir = '../FYP/dataset'\n",
    "os.mkdir(base_dir)\n"
   ]
  },
  {
   "cell_type": "code",
   "execution_count": null,
   "metadata": {},
   "outputs": [],
   "source": [
    "train_dir = os.path.join(base_dir, 'training_image')\n",
    "os.mkdir(train_dir)\n",
    "test_dir = os.path.join(base_dir, 'testing_image')\n",
    "os.mkdir(test_dir)"
   ]
  },
  {
   "cell_type": "code",
   "execution_count": null,
   "metadata": {},
   "outputs": [],
   "source": [
    "# Train Directory\n",
    "train_cataract_dir = os.path.join(train_dir, 'Cataract')\n",
    "os.mkdir(train_cataract_dir)\n",
    "\n",
    "train_myopia_dir = os.path.join(train_dir, 'Myopia')\n",
    "os.mkdir(train_myopia_dir)\n",
    "\n",
    "train_normal_dir = os.path.join(train_dir, 'Normal')\n",
    "os.mkdir(train_normal_dir)\n",
    "\n",
    "train_diabetes_dir = os.path.join(train_dir, 'Diabetes')\n",
    "os.mkdir(train_diabetes_dir)\n",
    "\n",
    "train_hypertensio_dir = os.path.join(train_dir, 'Hypertension')\n",
    "os.mkdir(train_hypertensio_dir)\n",
    "\n",
    "train_glycoma_dir = os.path.join(train_dir, 'Glycauma')\n",
    "os.mkdir(train_glycoma_dir)\n",
    "\n",
    "train_other_dir = os.path.join(train_dir, 'Other')\n",
    "os.mkdir(train_other_dir)\n",
    "# Testing Directory\n",
    "# test_cataract_dir = os.path.join(test_dir, 'Cataract')\n",
    "# os.mkdir(test_cataract_dir)\n",
    "\n",
    "# test_myopia_dir = os.path.join(test_dir, 'Myopia')\n",
    "# os.mkdir(test_myopia_dir)\n",
    "\n",
    "# test_normal_dir = os.path.join(test_dir, 'Normal')\n",
    "# os.mkdir(test_normal_dir)\n",
    "\n",
    "# test_diabetes_dir = os.path.join(test_dir, 'Diabetes')\n",
    "# os.mkdir(test_diabetes_dir)\n",
    "\n",
    "# test_hypertensio_dir = os.path.join(test_dir, 'Hypertension')\n",
    "# os.mkdir(test_hypertensio_dir)\n",
    "\n",
    "# test_glycoma_dir = os.path.join(test_dir, 'Glycauma')\n",
    "# os.mkdir(test_glycoma_dir)\n",
    "\n",
    "# test_other_dir = os.path.join(test_dir, 'Other')\n",
    "# os.mkdir(test_other_dir)\n"
   ]
  },
  {
   "cell_type": "code",
   "execution_count": null,
   "metadata": {},
   "outputs": [],
   "source": [
    "\n",
    "    \n",
    "for cataract in CATARACT_train:\n",
    "    src = os.path.join(original_dataset_train_dir, cataract)\n",
    "    dst = os.path.join(train_cataract_dir, cataract)\n",
    "    shutil.copyfile(src, dst)\n",
    "# for cataract in CATARACT_test:\n",
    "#     src = os.path.join(original_dataset_train_dir, cataract)\n",
    "#     dst = os.path.join(test_cataract_dir, cataract)\n",
    "#     shutil.copyfile(src, dst)\n"
   ]
  },
  {
   "cell_type": "code",
   "execution_count": null,
   "metadata": {},
   "outputs": [],
   "source": [
    "for myopia in MYOPIA_train:\n",
    "    src = os.path.join(original_dataset_train_dir, myopia)\n",
    "    dst = os.path.join(train_myopia_dir, myopia)\n",
    "    shutil.copyfile(src, dst)\n",
    "# for myopia in MYOPIA_test:\n",
    "#     src = os.path.join(original_dataset_train_dir, myopia)\n",
    "#     dst = os.path.join(test_myopia_dir, myopia)\n",
    "#     shutil.copyfile(src, dst)\n"
   ]
  },
  {
   "cell_type": "code",
   "execution_count": null,
   "metadata": {},
   "outputs": [],
   "source": [
    "for normal in NORMAL_train:\n",
    "    src = os.path.join(original_dataset_train_dir, normal)\n",
    "    dst = os.path.join(train_normal_dir, normal)\n",
    "    shutil.copyfile(src, dst)\n",
    "# for normal in NORMAL_test:\n",
    "#     src = os.path.join(original_dataset_train_dir, normal)\n",
    "#     dst = os.path.join(test_normal_dir, normal)\n",
    "#     shutil.copyfile(src, dst)\n"
   ]
  },
  {
   "cell_type": "code",
   "execution_count": null,
   "metadata": {},
   "outputs": [],
   "source": [
    "for diabetes in DIABETES_train:\n",
    "    src = os.path.join(original_dataset_train_dir, diabetes)\n",
    "    dst = os.path.join(train_diabetes_dir, diabetes)\n",
    "    shutil.copyfile(src, dst)\n",
    "# for diabetes in DIABETES_test:\n",
    "#     src = os.path.join(original_dataset_train_dir, diabetes)\n",
    "#     dst = os.path.join(test_diabetes_dir, diabetes)\n",
    "#     shutil.copyfile(src, dst)"
   ]
  },
  {
   "cell_type": "code",
   "execution_count": null,
   "metadata": {},
   "outputs": [],
   "source": [
    "for glycauma in GLYCOMA_train:\n",
    "    src = os.path.join(original_dataset_train_dir, glycauma)\n",
    "    dst = os.path.join(train_glycoma_dir, glycauma)\n",
    "    shutil.copyfile(src, dst)\n",
    "# for glycauma in GLYCOMA_test:\n",
    "#     src = os.path.join(original_dataset_train_dir, glycauma)\n",
    "#     dst = os.path.join(test_glycoma_dir, glycauma)\n",
    "#     shutil.copyfile(src, dst)"
   ]
  },
  {
   "cell_type": "code",
   "execution_count": null,
   "metadata": {},
   "outputs": [],
   "source": [
    "for hypertension in HYPERTENSION_train:\n",
    "    src = os.path.join(original_dataset_train_dir, hypertension)\n",
    "    dst = os.path.join(train_hypertensio_dir, hypertension)\n",
    "    shutil.copyfile(src, dst)\n",
    "# for hypertension in HYPERTENSION_test:\n",
    "#     src = os.path.join(original_dataset_train_dir, hypertension)\n",
    "#     dst = os.path.join(test_hypertensio_dir, hypertension)\n",
    "#     shutil.copyfile(src, dst)"
   ]
  },
  {
   "cell_type": "code",
   "execution_count": null,
   "metadata": {},
   "outputs": [],
   "source": [
    "for other in OTHER_train:\n",
    "    src = os.path.join(original_dataset_train_dir, other)\n",
    "    dst = os.path.join(train_other_dir, other)\n",
    "    shutil.copyfile(src, dst)\n",
    "# for other in OTHER_test:\n",
    "#     src = os.path.join(original_dataset_train_dir, other)\n",
    "#     dst = os.path.join(test_other_dir, other)\n",
    "#     shutil.copyfile(src, dst)"
   ]
  },
  {
   "cell_type": "code",
   "execution_count": null,
   "metadata": {},
   "outputs": [],
   "source": [
    "train_amd_dir = os.path.join(train_dir, 'AMD')\n",
    "os.mkdir(train_amd_dir)"
   ]
  },
  {
   "cell_type": "code",
   "execution_count": null,
   "metadata": {},
   "outputs": [],
   "source": [
    "for amd in AMD_train:\n",
    "    src = os.path.join(original_dataset_train_dir, amd)\n",
    "    dst = os.path.join(train_amd_dir, amd)\n",
    "    shutil.copyfile(src, dst)"
   ]
  },
  {
   "cell_type": "code",
   "execution_count": 7,
   "metadata": {},
   "outputs": [
    {
     "data": {
      "image/png": "[encoded data removed]",
      "text/plain": [
       "<Figure size 432x288 with 1 Axes>"
      ]
     },
     "metadata": {
      "needs_background": "light"
     },
     "output_type": "display_data"
    }
   ],
   "source": [
    "class_names = ['Cataract', 'Diabetes', 'Glycauma', 'Hypertension', 'Myopia',\n",
    "               'Normal', 'Other','AMD']\n",
    "\n",
    "DATA_DIR = \"../FYP/dataset/training_image\"\n",
    "\n",
    "for categry in class_names:\n",
    "    path = os.path.join(DATA_DIR,categry)\n",
    "    for image in os.listdir(path):\n",
    "        img_array = cv2.imread(os.path.join(path,image),cv2.IMREAD_GRAYSCALE)\n",
    "        plt.imshow(img_array,cmap =\"gray\")\n",
    "        plt.show()\n",
    "        break\n",
    "    break\n"
   ]
  },
  {
   "cell_type": "code",
   "execution_count": 8,
   "metadata": {},
   "outputs": [
    {
     "name": "stdout",
     "output_type": "stream",
     "text": [
      "(1728, 2304)\n"
     ]
    }
   ],
   "source": [
    "print(img_array.shape)"
   ]
  },
  {
   "cell_type": "code",
   "execution_count": 9,
   "metadata": {},
   "outputs": [
    {
     "data": {
      "image/png": "[encoded data removed]",
      "text/plain": [
       "<Figure size 432x288 with 1 Axes>"
      ]
     },
     "metadata": {
      "needs_background": "light"
     },
     "output_type": "display_data"
    }
   ],
   "source": [
    "# IMG_SIZE = 50\n",
    "# new_array = cv2.resize(img_array,(IMG_SIZE,IMG_SIZE))\n",
    "# plt.imshow(new_array,cmap = 'gray')\n",
    "# plt.show()\n",
    "\n",
    "IMG_SIZE = 224 #224 x 224 image size set\n",
    "\n",
    "new_array = cv2.resize(img_array, (IMG_SIZE, IMG_SIZE))\n",
    "plt.imshow(new_array, cmap='gray')\n",
    "plt.show()"
   ]
  },
  {
   "cell_type": "code",
   "execution_count": null,
   "metadata": {},
   "outputs": [],
   "source": [
    "# Training data\n",
    "training_data = []\n",
    "def create_training_data():\n",
    "    for categry in class_names:\n",
    "        path = os.path.join(DATA_DIR,categry)\n",
    "        class_num = class_names.index(categry)\n",
    "        for image in os.listdir(path):\n",
    "#         for image in tqdm(os.listdir(path)):\n",
    "            try:\n",
    "                img_array = cv2.imread(os.path.join(path,image),cv2.IMREAD_GRAYSCALE)\n",
    "                new_array = cv2.resize(img_array,(IMG_SIZE,IMG_SIZE))\n",
    "                training_data.append([new_array,class_num])\n",
    "            except Exception as e:\n",
    "                pass\n",
    "create_training_data()"
   ]
  },
  {
   "cell_type": "code",
   "execution_count": null,
   "metadata": {},
   "outputs": [],
   "source": [
    "import random\n",
    "random.shuffle(training_data)"
   ]
  },
  {
   "cell_type": "code",
   "execution_count": null,
   "metadata": {},
   "outputs": [],
   "source": [
    "for sample in training_data[:10]:\n",
    "    print(sample[1])"
   ]
  },
  {
   "cell_type": "code",
   "execution_count": null,
   "metadata": {},
   "outputs": [],
   "source": [
    "x=[]\n",
    "y=[]"
   ]
  },
  {
   "cell_type": "code",
   "execution_count": null,
   "metadata": {},
   "outputs": [],
   "source": [
    "for features,label in training_data:\n",
    "    x.append(features)\n",
    "    y.append(label)\n",
    "\n",
    "# print(x[0].reshape(-1, IMG_SIZE, IMG_SIZE, 1))\n",
    "\n",
    "x = np.array(x).reshape(-1, IMG_SIZE, IMG_SIZE, 1)\n",
    "print(x[0])\n",
    "\n",
    "# for feature,label in training_data:\n",
    "#     x.append(feature)\n",
    "#     y.append(label)\n",
    "# x = np.array(x).reshape(-1,IMG_SIZE,IMG_SIZE,1)"
   ]
  },
  {
   "cell_type": "code",
   "execution_count": 2,
   "metadata": {
    "colab": {},
    "colab_type": "code",
    "executionInfo": {
     "elapsed": 1178,
     "status": "ok",
     "timestamp": 1597308890012,
     "user": {
      "displayName": "muhammad faraz",
      "photoUrl": "https://lh3.googleusercontent.com/a-/AOh14GhCIIOnKDHT--ClL_xptY8Crwwxasj8diH9_lVcNQ=s64",
      "userId": "05911357442094582810"
     },
     "user_tz": -300
    },
    "id": "x959gawuLwKY"
   },
   "outputs": [],
   "source": [
    "import pickle"
   ]
  },
  {
   "cell_type": "code",
   "execution_count": null,
   "metadata": {},
   "outputs": [],
   "source": []
  },
  {
   "cell_type": "code",
   "execution_count": 3,
   "metadata": {
    "colab": {},
    "colab_type": "code",
    "executionInfo": {
     "elapsed": 12621,
     "status": "ok",
     "timestamp": 1597308904133,
     "user": {
      "displayName": "muhammad faraz",
      "photoUrl": "https://lh3.googleusercontent.com/a-/AOh14GhCIIOnKDHT--ClL_xptY8Crwwxasj8diH9_lVcNQ=s64",
      "userId": "05911357442094582810"
     },
     "user_tz": -300
    },
    "id": "7hVTQApyL4LI"
   },
   "outputs": [],
   "source": [
    "pickle_in = open(\"/content/drive/My Drive/Colab Notebooks/train_x.pickle\",\"rb\")\n",
    "x = pickle.load(pickle_in)\n",
    "\n",
    "pickle_in = open(\"/content/drive/My Drive/Colab Notebooks/train_y.pickle\",\"rb\")\n",
    "y = pickle.load(pickle_in)"
   ]
  },
  {
   "cell_type": "markdown",
   "metadata": {},
   "source": [
    "# Training Model"
   ]
  },
  {
   "cell_type": "code",
   "execution_count": 4,
   "metadata": {
    "colab": {
     "base_uri": "https://localhost:8080/",
     "height": 751
    },
    "colab_type": "code",
    "executionInfo": {
     "elapsed": 1787317,
     "status": "ok",
     "timestamp": 1597310692913,
     "user": {
      "displayName": "muhammad faraz",
      "photoUrl": "https://lh3.googleusercontent.com/a-/AOh14GhCIIOnKDHT--ClL_xptY8Crwwxasj8diH9_lVcNQ=s64",
      "userId": "05911357442094582810"
     },
     "user_tz": -300
    },
    "id": "UFrq0e52MG4C",
    "outputId": "577f4176-dc28-4fd6-bbcd-ae77f43ecc3f"
   },
   "outputs": [
    {
     "name": "stdout",
     "output_type": "stream",
     "text": [
      "Epoch 1/20\n",
      "  2/229 [..............................] - ETA: 44s - loss: 3.2978 - accuracy: 0.2500WARNING:tensorflow:Callbacks method `on_train_batch_end` is slow compared to the batch time (batch time: 0.1342s vs `on_train_batch_end` time: 0.2553s). Check your callbacks.\n",
      "229/229 [==============================] - 91s 400ms/step - loss: 1.7362 - accuracy: 0.2976 - val_loss: 1.6188 - val_accuracy: 0.3555\n",
      "Epoch 2/20\n",
      "229/229 [==============================] - 88s 385ms/step - loss: 1.6658 - accuracy: 0.3279 - val_loss: 1.5748 - val_accuracy: 0.3456\n",
      "Epoch 3/20\n",
      "229/229 [==============================] - 88s 384ms/step - loss: 1.6351 - accuracy: 0.3428 - val_loss: 1.5405 - val_accuracy: 0.3506\n",
      "Epoch 4/20\n",
      "229/229 [==============================] - 88s 383ms/step - loss: 1.6096 - accuracy: 0.3485 - val_loss: 1.5631 - val_accuracy: 0.3579\n",
      "Epoch 5/20\n",
      "229/229 [==============================] - 88s 383ms/step - loss: 1.5816 - accuracy: 0.3525 - val_loss: 1.5228 - val_accuracy: 0.3567\n",
      "Epoch 6/20\n",
      "229/229 [==============================] - 88s 383ms/step - loss: 1.5574 - accuracy: 0.3642 - val_loss: 1.5172 - val_accuracy: 0.3911\n",
      "Epoch 7/20\n",
      "229/229 [==============================] - 88s 383ms/step - loss: 1.5436 - accuracy: 0.3716 - val_loss: 1.5041 - val_accuracy: 0.3727\n",
      "Epoch 8/20\n",
      "229/229 [==============================] - 88s 384ms/step - loss: 1.5381 - accuracy: 0.3698 - val_loss: 1.5056 - val_accuracy: 0.3813\n",
      "Epoch 9/20\n",
      "229/229 [==============================] - 89s 387ms/step - loss: 1.4987 - accuracy: 0.3797 - val_loss: 1.4859 - val_accuracy: 0.3850\n",
      "Epoch 10/20\n",
      "229/229 [==============================] - 88s 386ms/step - loss: 1.4562 - accuracy: 0.3972 - val_loss: 1.4918 - val_accuracy: 0.3715\n",
      "Epoch 11/20\n",
      "229/229 [==============================] - 88s 386ms/step - loss: 1.3749 - accuracy: 0.4230 - val_loss: 1.5177 - val_accuracy: 0.3444\n",
      "Epoch 12/20\n",
      "229/229 [==============================] - 88s 386ms/step - loss: 1.2918 - accuracy: 0.4634 - val_loss: 1.5272 - val_accuracy: 0.3616\n",
      "Epoch 13/20\n",
      "229/229 [==============================] - 88s 385ms/step - loss: 1.1865 - accuracy: 0.5070 - val_loss: 1.6240 - val_accuracy: 0.3653\n",
      "Epoch 14/20\n",
      "229/229 [==============================] - 88s 385ms/step - loss: 1.0786 - accuracy: 0.5524 - val_loss: 1.6653 - val_accuracy: 0.3456\n",
      "Epoch 15/20\n",
      "229/229 [==============================] - 88s 385ms/step - loss: 1.0037 - accuracy: 0.5819 - val_loss: 1.7833 - val_accuracy: 0.3333\n",
      "Epoch 16/20\n",
      "229/229 [==============================] - 88s 385ms/step - loss: 0.9309 - accuracy: 0.6114 - val_loss: 1.8864 - val_accuracy: 0.3223\n",
      "Epoch 17/20\n",
      "229/229 [==============================] - 88s 385ms/step - loss: 0.8582 - accuracy: 0.6374 - val_loss: 2.0447 - val_accuracy: 0.3198\n",
      "Epoch 18/20\n",
      "229/229 [==============================] - 88s 385ms/step - loss: 0.8042 - accuracy: 0.6656 - val_loss: 2.0668 - val_accuracy: 0.3100\n",
      "Epoch 19/20\n",
      "229/229 [==============================] - 88s 385ms/step - loss: 0.7352 - accuracy: 0.6879 - val_loss: 2.3410 - val_accuracy: 0.2977\n",
      "Epoch 20/20\n",
      "229/229 [==============================] - 88s 385ms/step - loss: 0.7137 - accuracy: 0.7051 - val_loss: 2.3196 - val_accuracy: 0.3100\n"
     ]
    },
    {
     "data": {
      "text/plain": [
       "<tensorflow.python.keras.callbacks.History at 0x7fb2e903ba90>"
      ]
     },
     "execution_count": 4,
     "metadata": {
      "tags": []
     },
     "output_type": "execute_result"
    }
   ],
   "source": [
    "from tensorflow.keras.preprocessing.image import ImageDataGenerator\n",
    "from tensorflow.keras.models import Sequential\n",
    "from tensorflow.keras.layers import Dense, Dropout, Activation, Flatten\n",
    "from tensorflow.keras.layers import Conv2D, MaxPooling2D\n",
    "\n",
    "x = x/255.0\n",
    "\n",
    "y=np.array(y)\n",
    "model = Sequential()\n",
    "\n",
    "model.add(Conv2D(48, (3, 3)))\n",
    "model.add(Activation('relu'))\n",
    "# model.add(MaxPooling2D(pool_size=(2, 2)))\n",
    "# model.add(Dropout(0.2))\n",
    "\n",
    "model.add(Conv2D(64, (3, 3)))\n",
    "model.add(Activation('relu'))\n",
    "model.add(MaxPooling2D(pool_size=(2, 2)))\n",
    "model.add(Dropout(0.2))\n",
    "\n",
    "model.add(Conv2D(96, (3, 3)))\n",
    "model.add(Activation('relu'))\n",
    "# model.add(MaxPooling2D(pool_size=(2, 2)))\n",
    "# model.add(Dropout(0.2))\n",
    "\n",
    "model.add(Conv2D(112, (3, 3)))\n",
    "model.add(Activation('relu'))\n",
    "model.add(MaxPooling2D(pool_size=(2, 2)))\n",
    "model.add(Dropout(0.2))\n",
    "\n",
    "model.add(Flatten())  # this converts our 3D feature maps to 1D feature vectors\n",
    "\n",
    "model.add(Dense(64, activation='relu'))\n",
    "model.add(Dropout(0.2))\n",
    "model.add(Dense(8))\n",
    "model.add(Activation('softmax'))\n",
    "\n",
    "\n",
    "model.compile(loss='sparse_categorical_crossentropy',\n",
    "              optimizer='adam',\n",
    "              metrics=['accuracy'])\n",
    "\n",
    "model.fit(x, y, batch_size=32, epochs=20, validation_split=0.1)\n"
   ]
  },
  {
   "cell_type": "markdown",
   "metadata": {
    "colab_type": "text",
    "id": "bNk1bEptsRs9"
   },
   "source": []
  },
  {
   "cell_type": "code",
   "execution_count": 10,
   "metadata": {
    "colab": {},
    "colab_type": "code",
    "id": "QEg7iKPGQNTs"
   },
   "outputs": [],
   "source": [
    "\n",
    "# model.compile(loss='sparse_categorical_crossentropy',\n",
    "#               optimizer='adam',\n",
    "#               metrics=['accuracy'])\n",
    "\n"
   ]
  },
  {
   "cell_type": "code",
   "execution_count": 11,
   "metadata": {
    "colab": {
     "base_uri": "https://localhost:8080/",
     "height": 496
    },
    "colab_type": "code",
    "executionInfo": {
     "elapsed": 8566,
     "status": "error",
     "timestamp": 1597272518855,
     "user": {
      "displayName": "muhammad faraz",
      "photoUrl": "https://lh3.googleusercontent.com/a-/AOh14GhCIIOnKDHT--ClL_xptY8Crwwxasj8diH9_lVcNQ=s64",
      "userId": "05911357442094582810"
     },
     "user_tz": -300
    },
    "id": "tqyQVSKatJPD",
    "outputId": "862334e3-e9aa-4dc1-a1e6-215c918f4cdb"
   },
   "outputs": [],
   "source": [
    "# model.fit(x, y, batch_size=32, epochs=10, validation_split=0.1)"
   ]
  },
  {
   "cell_type": "code",
   "execution_count": null,
   "metadata": {},
   "outputs": [],
   "source": []
  }
 ],
 "metadata": {
  "accelerator": "GPU",
  "colab": {
   "authorship_tag": "ABX9TyPsOt/6f99D2nconONiTOjQ",
   "mount_file_id": "1iQcAscx5kgtNb6N-PbZwLIPY5hGMjY3C",
   "name": "Untitled0.ipynb",
   "provenance": []
  },
  "kernelspec": {
   "display_name": "Python 3",
   "language": "python",
   "name": "python3"
  },
  "language_info": {
   "codemirror_mode": {
    "name": "ipython",
    "version": 3
   },
   "file_extension": ".py",
   "mimetype": "text/x-python",
   "name": "python",
   "nbconvert_exporter": "python",
   "pygments_lexer": "ipython3",
   "version": "3.7.3"
  }
 },
 "nbformat": 4,
 "nbformat_minor": 1
}
